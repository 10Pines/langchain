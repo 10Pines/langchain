{
 "cells": [
  {
   "cell_type": "markdown",
<<<<<<< HEAD
   "id": "3e2f9308",
=======
>>>>>>> 06c4aea1c (add jupyter notebook doc)
   "metadata": {},
   "source": [
    "# Outline\n",
    "\n",
<<<<<<< HEAD
    ">[Outline](https://www.getoutline.com) is a modern A modern team knowledge base for your internal documentation, product specs, support answers, meeting notes, onboarding, & more.\n",
    "\n",
    "This notebook shows how to load wiki pages from any Outline instance into the Document format."
=======
    ">[Outline](https://www.getoutline.com/) is an open-source collaborative knowledge base platform designed for team information sharing.\n",
    "\n",
    "This notebook shows how to obtain langchain Documents from your Outline collections."
>>>>>>> 06c4aea1c (add jupyter notebook doc)
   ]
  },
  {
   "cell_type": "markdown",
<<<<<<< HEAD
   "id": "bf0977ba",
   "metadata": {},
   "source": [
    "## Installation\n",
    "\n",
    "First, you need to install the `langchain_community` and `outline` packages."
=======
   "metadata": {},
   "source": [
    "## Setup"
>>>>>>> 06c4aea1c (add jupyter notebook doc)
   ]
  },
  {
   "cell_type": "code",
   "execution_count": null,
<<<<<<< HEAD
   "id": "707315cf",
   "metadata": {},
   "outputs": [],
   "source": [
    "%pip install -qU langchain_community outline"
=======
   "metadata": {},
   "outputs": [],
   "source": [
    "%pip install --upgrade --quiet langchain"
>>>>>>> 06c4aea1c (add jupyter notebook doc)
   ]
  },
  {
   "cell_type": "markdown",
<<<<<<< HEAD
   "id": "c38d2d9d",
   "metadata": {
    "vscode": {
     "languageId": "plaintext"
    }
   },
   "source": [
    "## Parameters\n",
    "\n",
    "`OutlineLoader` has the following arguments:\n",
    "- `outline_base_url`: The URL of the outline instance\n",
    "- `outline_api_key`: API key for accessing the outline instance\n",
    "- `page_size` (optional): default=25. How many outline documents should be retrieved per request"
   ]
  },
  {
   "cell_type": "markdown",
   "id": "734c97d7",
   "metadata": {},
   "source": [
    "## Example"
=======
   "metadata": {},
   "source": [
    "You first need to [create an api key](https://www.getoutline.com/developers#section/Authentication) for your Outline instance. Then you need to set the following environment variables:"
   ]
  },
  {
   "cell_type": "code",
   "execution_count": null,
   "metadata": {},
   "outputs": [],
   "source": [
    "import os\n",
    "\n",
    "os.environ[\"OUTLINE_API_KEY\"] = \"ol_api_xyz123\"\n",
    "os.environ[\"OUTLINE_INSTANCE_URL\"] = \"https://app.getoutline.com\""
   ]
  },
  {
   "cell_type": "markdown",
   "metadata": {},
   "source": [
    "`OutlineLoader` has these arguments:\n",
    "- optional `outline_base_url`: The URL of the outline site, if not specified the env var OUTLINE_API_KEY will be used instead.\n",
    "- optional `outline_api_key`: The API key.  If not specified the env var OUTLINE_API_KEY will be used.\n",
    "- optional `page_size`: The outline API returns paginated results, use this parameter to change control many documents will be returned per page/API request.\n",
    "\n",
    "The Document loader implements `lazy_load()` and will yield a Document instance for each Outline document in the specified site."
   ]
  },
  {
   "cell_type": "markdown",
   "metadata": {},
   "source": [
    "## Examples"
   ]
  },
  {
   "cell_type": "markdown",
   "metadata": {},
   "source": [
    "### Running loader"
>>>>>>> 06c4aea1c (add jupyter notebook doc)
   ]
  },
  {
   "cell_type": "code",
   "execution_count": null,
<<<<<<< HEAD
   "id": "8c4f1349",
=======
>>>>>>> 06c4aea1c (add jupyter notebook doc)
   "metadata": {},
   "outputs": [],
   "source": [
    "from langchain_community.document_loaders import OutlineLoader"
   ]
  },
  {
   "cell_type": "code",
   "execution_count": null,
<<<<<<< HEAD
   "id": "e73f6871",
   "metadata": {},
   "outputs": [],
   "source": [
    "docs = OutlineLoader(outline_base_url=\"http://outline.test\", outline_api_key=\"api_key\").load()"
=======
   "metadata": {},
   "outputs": [],
   "source": [
    "loader = OutlineLoader()"
   ]
  },
  {
   "cell_type": "code",
   "execution_count": null,
   "metadata": {},
   "outputs": [],
   "source": [
    "loader.load()"
>>>>>>> 06c4aea1c (add jupyter notebook doc)
   ]
  }
 ],
 "metadata": {
<<<<<<< HEAD
  "language_info": {
   "name": "python"
  }
 },
 "nbformat": 4,
 "nbformat_minor": 5
=======
  "kernelspec": {
   "display_name": ".venv",
   "language": "python",
   "name": "python3"
  },
  "language_info": {
   "codemirror_mode": {
    "name": "ipython",
    "version": 3
   },
   "file_extension": ".py",
   "mimetype": "text/x-python",
   "name": "python",
   "nbconvert_exporter": "python",
   "pygments_lexer": "ipython3",
   "version": "3.13.3"
  }
 },
 "nbformat": 4,
 "nbformat_minor": 4
>>>>>>> 06c4aea1c (add jupyter notebook doc)
}
