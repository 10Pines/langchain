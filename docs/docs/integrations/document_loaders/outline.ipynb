{
 "cells": [
  {
   "cell_type": "markdown",
   "id": "3e2f9308",
   "metadata": {},
   "source": [
    "# Outline\n",
    "\n",
    ">[Outline](https://www.getoutline.com) is a modern A modern team knowledge base for your internal documentation, product specs, support answers, meeting notes, onboarding, & more.\n",
    "\n",
    "This notebook shows how to load wiki pages from any Outline instance into the Document format."
   ]
  },
  {
   "cell_type": "markdown",
   "id": "bf0977ba",
   "metadata": {},
   "source": [
    "## Installation\n",
    "\n",
    "First, you need to install the `langchain_community` and `outline` packages."
   ]
  },
  {
   "cell_type": "code",
   "execution_count": null,
   "id": "707315cf",
   "metadata": {},
   "outputs": [],
   "source": [
    "%pip install -qU langchain_community outline"
   ]
  },
  {
   "cell_type": "markdown",
   "id": "c38d2d9d",
   "metadata": {
    "vscode": {
     "languageId": "plaintext"
    }
   },
   "source": [
    "## Parameters\n",
    "\n",
    "`OutlineLoader` has the following arguments:\n",
    "- `outline_base_url`: The URL of the outline instance\n",
    "- `outline_api_key`: API key for accessing the outline instance\n",
    "- `page_size` (optional): default=25. How many outline documents should be retrieved per request"
   ]
  },
  {
   "cell_type": "markdown",
   "id": "734c97d7",
   "metadata": {},
   "source": [
    "## Example"
   ]
  },
  {
   "cell_type": "code",
   "execution_count": null,
   "id": "8c4f1349",
   "metadata": {},
   "outputs": [],
   "source": [
    "from langchain_community.document_loaders import OutlineLoader"
   ]
  },
  {
   "cell_type": "code",
   "execution_count": null,
   "id": "e73f6871",
   "metadata": {},
   "outputs": [],
   "source": [
    "docs = OutlineLoader(outline_base_url=\"http://outline.test\", outline_api_key=\"api_key\").load()"
   ]
  }
 ],
 "metadata": {
  "language_info": {
   "name": "python"
  }
 },
 "nbformat": 4,
 "nbformat_minor": 5
}
